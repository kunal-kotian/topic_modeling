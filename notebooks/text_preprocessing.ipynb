{
 "cells": [
  {
   "cell_type": "code",
   "execution_count": 124,
   "metadata": {
    "ExecuteTime": {
     "end_time": "2018-08-04T01:45:00.383673Z",
     "start_time": "2018-08-04T01:45:00.378705Z"
    }
   },
   "outputs": [],
   "source": [
    "import pickle\n",
    "import json\n",
    "from collections import Counter\n",
    "\n",
    "import pandas as pd\n",
    "\n",
    "import contractions"
   ]
  },
  {
   "cell_type": "markdown",
   "metadata": {},
   "source": [
    "# A) Loading the JSON Data"
   ]
  },
  {
   "cell_type": "code",
   "execution_count": 2,
   "metadata": {
    "ExecuteTime": {
     "end_time": "2018-08-03T20:02:24.860174Z",
     "start_time": "2018-08-03T20:02:23.605569Z"
    },
    "scrolled": false
   },
   "outputs": [],
   "source": [
    "data = []\n",
    "with open('../data/corpus.txt') as file:\n",
    "    for line in file:\n",
    "        data.append(json.loads(line))"
   ]
  },
  {
   "cell_type": "code",
   "execution_count": 3,
   "metadata": {
    "ExecuteTime": {
     "end_time": "2018-08-03T20:02:25.665893Z",
     "start_time": "2018-08-03T20:02:25.654730Z"
    },
    "scrolled": true
   },
   "outputs": [
    {
     "name": "stdout",
     "output_type": "stream",
     "text": [
      "number of documents in the JSON file corpus.txt:  10000\n"
     ]
    }
   ],
   "source": [
    "print('number of documents in the JSON file corpus.txt: ', len(data))"
   ]
  },
  {
   "cell_type": "markdown",
   "metadata": {},
   "source": [
    "## A.1) Extracting Relevant Text"
   ]
  },
  {
   "cell_type": "markdown",
   "metadata": {},
   "source": [
    "Let's look at a single document from the JSON file to understand its structure:"
   ]
  },
  {
   "cell_type": "code",
   "execution_count": 6,
   "metadata": {
    "ExecuteTime": {
     "end_time": "2018-08-03T20:05:07.468668Z",
     "start_time": "2018-08-03T20:05:07.460133Z"
    },
    "scrolled": false
   },
   "outputs": [
    {
     "data": {
      "text/plain": [
       "{'author': {'string': 'Chicago Tribune'},\n",
       " 'crawlName': {'string': 'chicago_tribue_business'},\n",
       " 'date': 1507161600000,\n",
       " 'html': '',\n",
       " 'humanLanguage': {'string': 'en'},\n",
       " 'pageUrl': 'http://www.chicagotribune.com/news/local/breaking/ct-gunman-reserved-two-rooms-at-blackstone-photos-20171005-photogallery.html',\n",
       " 'siteName': {'string': 'chicagotribune.com'},\n",
       " 'tags': [{'count': 1,\n",
       "   'label': 'The Blackstone Hotel',\n",
       "   'rdfTypes': [],\n",
       "   'score': 0.38,\n",
       "   'uri': 'http://dbpedia.org/page/The_Blackstone_Hotel'},\n",
       "  {'count': 1,\n",
       "   'label': 'Chicago Police Department',\n",
       "   'rdfTypes': [],\n",
       "   'score': 0.37,\n",
       "   'uri': 'http://dbpedia.org/page/Chicago_Police_Department'},\n",
       "  {'count': 1,\n",
       "   'label': 'music festival',\n",
       "   'rdfTypes': [],\n",
       "   'score': 0.24,\n",
       "   'uri': 'http://dbpedia.org/page/Music_festival'},\n",
       "  {'count': 1,\n",
       "   'label': 'mass shooting',\n",
       "   'rdfTypes': [],\n",
       "   'score': 0.19,\n",
       "   'uri': 'http://dbpedia.org/page/Mass_shooting'},\n",
       "  {'count': 1,\n",
       "   'label': 'Lollapalooza',\n",
       "   'rdfTypes': [],\n",
       "   'score': 0.18,\n",
       "   'uri': 'http://dbpedia.org/page/Lollapalooza'},\n",
       "  {'count': 1,\n",
       "   'label': 'Las Vegas',\n",
       "   'rdfTypes': ['http://dbpedia.org/ontology/Place'],\n",
       "   'score': 0.12,\n",
       "   'uri': 'http://dbpedia.org/page/Las_Vegas'}],\n",
       " 'text': \"Chicago police are investigating whether Stephen Paddock, the gunman in the Las Vegas mass shooting, booked rooms at the Blackstone Hotel during this summer's Lollapalooza music festival, held across the street in Grant Park.\",\n",
       " 'thumbnailUrl': {'string': 'http://www.trbimg.com/img-59d66185/turbine/chi-blackstone05-ct0060623053-20171005/750/750x422'},\n",
       " 'title': 'Gunman reserved two rooms at Blackstone'}"
      ]
     },
     "execution_count": 6,
     "metadata": {},
     "output_type": "execute_result"
    }
   ],
   "source": [
    "(data[2])"
   ]
  },
  {
   "cell_type": "markdown",
   "metadata": {},
   "source": [
    "It appears from the sample document above that each article's title and main body are stored in the document's `title` and `text` attributes as strings respectively."
   ]
  },
  {
   "cell_type": "markdown",
   "metadata": {},
   "source": [
    "**Sanity checks to confirm whether the JSON object `data` maintains the structure seen above:**"
   ]
  },
  {
   "cell_type": "code",
   "execution_count": 76,
   "metadata": {
    "ExecuteTime": {
     "end_time": "2018-08-04T00:31:42.055409Z",
     "start_time": "2018-08-04T00:31:42.043936Z"
    }
   },
   "outputs": [
    {
     "name": "stdout",
     "output_type": "stream",
     "text": [
      "5 most frequent counts of article lengths (no. of characters in the article):\n",
      "[(1, 7793), (0, 43), (1068, 4), (2714, 4), (482, 4)]\n"
     ]
    }
   ],
   "source": [
    "article_lengths = [len(doc['text']) for doc in data]   # list of the lengths of each article\n",
    "article_lengths_count = Counter(article_lengths)       # dict mapping article length to frequency of occurrence\n",
    "print('5 most frequent counts of article lengths (no. of characters in the article):')\n",
    "print(article_lengths_count.most_common(5))"
   ]
  },
  {
   "cell_type": "markdown",
   "metadata": {},
   "source": [
    "There are `7793` documents with article length `1` and `43` with length `0`.  This seems unusual and must be investigated:"
   ]
  },
  {
   "cell_type": "code",
   "execution_count": 100,
   "metadata": {
    "ExecuteTime": {
     "end_time": "2018-08-04T01:01:31.222364Z",
     "start_time": "2018-08-04T01:01:31.214986Z"
    }
   },
   "outputs": [
    {
     "name": "stdout",
     "output_type": "stream",
     "text": [
      "A document having length of text == 0: format -> (title, text, URL)\n"
     ]
    },
    {
     "data": {
      "text/plain": [
       "(\"Craig Robinson and Adam Scott buddy up in Fox's supernatural comedy 'Ghosted'\",\n",
       " '',\n",
       " 'http://www.chicagotribune.com/entertainment/tv/la-et-st-ghosted-review-20170930-story.html')"
      ]
     },
     "execution_count": 100,
     "metadata": {},
     "output_type": "execute_result"
    }
   ],
   "source": [
    "print('A document having length of text == 0: format -> (title, text, URL)')\n",
    "(next(iter(((doc['title'] , doc['text'], doc['pageUrl']) for doc in data if len(doc['text']) == 0))))"
   ]
  },
  {
   "cell_type": "markdown",
   "metadata": {},
   "source": [
    "The sample document above has its article text missing.  The URL associated with the article shows that the full article text is available to read.  The same observation applies to a few other similar documents with zero article lengths that were explored.  It might be possible to acquire the full article text for such articles later.  Since article title constitutes a useful signal, these articles will be retained for topic modeling.  \n",
    "\n",
    "Let's check if any documents have missing article text as well as title; if any are found, they must be deleted:"
   ]
  },
  {
   "cell_type": "code",
   "execution_count": 98,
   "metadata": {
    "ExecuteTime": {
     "end_time": "2018-08-04T01:00:27.677002Z",
     "start_time": "2018-08-04T01:00:27.667518Z"
    }
   },
   "outputs": [
    {
     "name": "stdout",
     "output_type": "stream",
     "text": [
      "No. of documents missing both title as well as text: 0\n"
     ]
    }
   ],
   "source": [
    "print('No. of documents missing both title as well as text: ', end='')\n",
    "print(len([doc for doc in data if len(doc['text']) == 0 and len(doc['title']) == 0]))"
   ]
  },
  {
   "cell_type": "markdown",
   "metadata": {},
   "source": [
    "Next, let's look at a sample document with article length `1`:"
   ]
  },
  {
   "cell_type": "code",
   "execution_count": 80,
   "metadata": {
    "ExecuteTime": {
     "end_time": "2018-08-04T00:42:19.911267Z",
     "start_time": "2018-08-04T00:42:19.900273Z"
    },
    "scrolled": false
   },
   "outputs": [
    {
     "name": "stdout",
     "output_type": "stream",
     "text": [
      "A document having length of text == 1: format -> (title, text, URL)\n"
     ]
    },
    {
     "data": {
      "text/plain": [
       "({'string': 'Losses for banks and smaller companies take US stocks lower | The Sacramento Bee'},\n",
       " {'string': \"U.S. stock indexes are slipping back from record highs Tuesday as banks and small companies fall. Travel booking sites Priceline and TripAdvisor are taking steep losses following their third-quarter reports and retailers are falling too. Companies that pay big dividends, including utilities, are making gains. Oil prices are down slightly after they jumped to two-year highs a day ago.\\nKEEPING SCORE: The Standard & Poor's 500 index lost 4 points, or 0.2 percent, to 2,586 as of 3 p.m. Eastern time. The Dow Jones industrial average slipped 26 points, or 0.1 percent, to 23,521. The Nasdaq composite fell 26 points, or 0.4 percent, to 6,759. Smaller companies were on track for their worst loss since early August. The Russell 2000 index tumbled 18 points, or 1.2 percent, to 1,479 as Wall Street continued to watch for signs of progress by House Republicans on their proposed tax cuts. Investors feel smaller and more U.S.-focused companies could benefit the most from a corporate tax cut.\\nIN DECLINE: Banks fell along with bond yields and interest rates. Both have moved lower over the last few days, which reduces the profits banks make from lending. The yield on the 10-year Treasury note slipped to 2.31 percent from 2.32 percent.\\nJPMorgan Chase fell $2.15, or 2.1 percent, to $98.63 and U.S. Bancorp lost $1.31, or 2.4 percent, to $53.54. Bank of America gave up 70 cents, or 2.5 percent, to $27.05. First Financial Bancshares, a Texas-based bank, fell $1.10, or 2.4 percent, to $44.45.\\nAmong smaller companies, Red Robin Gourmet Burgers plunged after it slashed its profit forecast. It pointed to higher labor costs and said it will stop opening new locations at the end of its next fiscal year. The stock lost $18.75, or 28 percent, to $48.30. Consumer products distributor Core-Mark fell $3.5, or 10.4 percent, to $30.20 after it cut its outlook.\\nTRAVELING MOOD: Travel website TripAdvisor plunged after its third-quarter revenue fell short of analyst estimates. Booking service Priceline Group had a better-than-expected quarter, but its forecasts for the current quarter disappointed Wall Street. Analysts said the company is spending a lot of money on advertising, but that may pay off with increased market share. TripAdvisor sank $8.62, or 21.8 percent, to $30.91 and Priceline lost $254.20, or 13.4 percent, to $1,648.80.\\nTECH RALLY FADES: Chipmaker Skyworks Solutions fell $6.03, or 5.2 percent, to $110.30 and Microchip Technology gave up $4.08, or 4.3 percent, to $91.28 after their quarterly reports. Semiconductor makers jumped Monday on deal reports in the industry. The losses took technology companies slightly lower and threatened to end an eight-day winning streak. The stocks have been setting record highs throughout the run and technology companies have done far better than the rest of the market all year.\\nMOVING UP: Household goods makers, utilities, and other companies that pay big dividends did better than the rest of the market. Drugstore and pharmacy benefits company CVS Health jumped $2.10, or 3.1 percent, to $68.90 to recover some of its recent losses. Shopping mall operator GGP climbed $1.56, or 8.2 percent, to $20.57.\\nReal estate, household goods and phone companies have lagged far behind the S&P 500 this year. The stocks are generally seen as cautious investments, and investors have been betting on improved economic growth rather than looking for safety.\\nSLIMMED DOWN: Weight loss company Weight Watchers continued to surge after it raised its forecasts for the year. Its stock rose $7.66, or 17.1 percent, to $52.46. It started the year at $11.45.\\nMALLIN-CRUSHED: Drugmaker Mallinckrodt plunged after it said sales of its costly HP Acthar gel have been hurt because fewer prescriptions are being filled. It said revenue from the drug will decline in the fourth quarter. The company also reported weaker sales of generic drugs. Already trading at all-time lows, the stock dropped $11.14, or 35.7 percent, to $20.04.\\nOIL: Benchmark U.S. crude fell 15 cents to $57.20 a barrel in New York. Brent crude, used to price international oils, dipped 58 cents to $63.69 a barrel in London. Oil prices rose about 3 percent Monday and hit two-year highs after a wave of arrests of princes and other officials in Saudi Arabia. Investors wondered if the upheaval could affect oil supplies and prices.\\nWholesale gasoline lost 1 cent to $1.82 a gallon. Heating oil fell 2 cents to $1.92 a gallon. Natural gas rose 2 cents to $3.15 per 1,000 cubic feet.\\nMETALS: Gold lost $5.80 to $1,275.80 an ounce. Silver fell 30 cents to $16.94 an ounce. Copper declined 7 cents to $3.09 a pound.\\nCURRENCIES: The dollar rose to 113.86 yen from 113.77 yen. The euro fell to $1.1588 from $1.1606.\\nOVERSEAS: European stocks fell. The British FTSE 100 and the German DAX each shed 0.7 percent. The CAC 40 in France lost 0.5 percent. Tokyo's Nikkei 225 jumped 1.7 percent and Hong Kong's Hang Seng advanced 1.3 percent. In Seoul, the Kospi lost 0.2 percent.\\nNever miss a local story.\\nSign up today for a free 30 day free trial of unlimited digital access.\\nSUBSCRIBE NOW\"},\n",
       " {'string': 'http://www.sacbee.com/news/business/article183179826.html'})"
      ]
     },
     "execution_count": 80,
     "metadata": {},
     "output_type": "execute_result"
    }
   ],
   "source": [
    "print('A document having length of text == 1: format -> (title, text, URL)')\n",
    "next(iter(((doc['title'] , doc['text'], doc['pageUrl']) for doc in data if len(doc['text']) == 1)))"
   ]
  },
  {
   "cell_type": "markdown",
   "metadata": {},
   "source": [
    "The structure of the JSON document above is different from the first sample document.  This must be taken into account while extracting article titles and text from the JSON object `data`."
   ]
  },
  {
   "cell_type": "markdown",
   "metadata": {},
   "source": [
    "**The fields of interest in the JSON documents are: `text` and `title`.**  \n",
    "\n",
    "Note:  \n",
    "The `tags` field is an array of entities extracted from based on text analysis by Diffbot (reference: https://www.diffbot.com/dev/docs/article/).  Each entity has a label (its name) and a relevance score.  However, a cursory exploration of these tags for a few documents revealed that some of the entities identified by Diffbot are not relevant to the article.  Hence, the `tags` field was not used in this work."
   ]
  },
  {
   "cell_type": "code",
   "execution_count": 113,
   "metadata": {
    "ExecuteTime": {
     "end_time": "2018-08-04T01:33:20.763729Z",
     "start_time": "2018-08-04T01:33:20.756996Z"
    }
   },
   "outputs": [],
   "source": [
    "def get_title_and_text(doc):\n",
    "    \"\"\"Returns a tuple of strings representing the article's title and text from the JSON document doc.\"\"\"\n",
    "    title = doc['title']\n",
    "    text = doc['text']\n",
    "    if type(text) is dict:\n",
    "        title = title['string']\n",
    "        text = text['string']\n",
    "    return title, text"
   ]
  },
  {
   "cell_type": "code",
   "execution_count": 114,
   "metadata": {
    "ExecuteTime": {
     "end_time": "2018-08-04T01:33:44.787507Z",
     "start_time": "2018-08-04T01:33:44.756116Z"
    }
   },
   "outputs": [],
   "source": [
    "articles = []\n",
    "\n",
    "# initialize tracking of document index in the JSON array.\n",
    "# document index can be used to map any article to all \n",
    "# attributes available in the original JSON object 'data'.\n",
    "ind = 0\n",
    "for doc in data:\n",
    "    title, text = get_title_and_text(doc)\n",
    "    articles.append([ind, title, text])\n",
    "    ind += 1"
   ]
  },
  {
   "cell_type": "markdown",
   "metadata": {},
   "source": [
    "**Sanity check:  **"
   ]
  },
  {
   "cell_type": "code",
   "execution_count": 123,
   "metadata": {
    "ExecuteTime": {
     "end_time": "2018-08-04T01:38:31.695574Z",
     "start_time": "2018-08-04T01:38:31.687179Z"
    },
    "scrolled": false
   },
   "outputs": [
    {
     "name": "stdout",
     "output_type": "stream",
     "text": [
      "No. of documents with article length == 0 after text extraction: 0\n"
     ]
    }
   ],
   "source": [
    "print('No. of documents with article length == 0 after text extraction: ', end='')\n",
    "print(len([doc for doc in articles if len(doc[2]) == 1]))"
   ]
  },
  {
   "cell_type": "code",
   "execution_count": 126,
   "metadata": {
    "ExecuteTime": {
     "end_time": "2018-08-04T01:47:23.963041Z",
     "start_time": "2018-08-04T01:47:23.601128Z"
    }
   },
   "outputs": [],
   "source": [
    "# Save the list 'articles' containing relevant information in the format:\n",
    "# [[document index in the original JSON array, article title, article text]]\n",
    "with open('../data/articles.pkl', 'wb') as file:\n",
    "    pickle.dump(articles, file)"
   ]
  },
  {
   "cell_type": "markdown",
   "metadata": {},
   "source": [
    "# Tokenization"
   ]
  },
  {
   "cell_type": "code",
   "execution_count": null,
   "metadata": {},
   "outputs": [],
   "source": []
  },
  {
   "cell_type": "code",
   "execution_count": null,
   "metadata": {},
   "outputs": [],
   "source": []
  },
  {
   "cell_type": "markdown",
   "metadata": {},
   "source": [
    "**Article Title**  \n",
    "The article ---------\n",
    "\n"
   ]
  },
  {
   "cell_type": "code",
   "execution_count": null,
   "metadata": {},
   "outputs": [],
   "source": []
  }
 ],
 "metadata": {
  "kernelspec": {
   "display_name": "Python 3",
   "language": "python",
   "name": "python3"
  },
  "language_info": {
   "codemirror_mode": {
    "name": "ipython",
    "version": 3
   },
   "file_extension": ".py",
   "mimetype": "text/x-python",
   "name": "python",
   "nbconvert_exporter": "python",
   "pygments_lexer": "ipython3",
   "version": "3.6.4"
  },
  "toc": {
   "nav_menu": {},
   "number_sections": true,
   "sideBar": true,
   "skip_h1_title": false,
   "toc_cell": false,
   "toc_position": {},
   "toc_section_display": "block",
   "toc_window_display": false
  },
  "varInspector": {
   "cols": {
    "lenName": 16,
    "lenType": 16,
    "lenVar": 40
   },
   "kernels_config": {
    "python": {
     "delete_cmd_postfix": "",
     "delete_cmd_prefix": "del ",
     "library": "var_list.py",
     "varRefreshCmd": "print(var_dic_list())"
    },
    "r": {
     "delete_cmd_postfix": ") ",
     "delete_cmd_prefix": "rm(",
     "library": "var_list.r",
     "varRefreshCmd": "cat(var_dic_list()) "
    }
   },
   "types_to_exclude": [
    "module",
    "function",
    "builtin_function_or_method",
    "instance",
    "_Feature"
   ],
   "window_display": false
  }
 },
 "nbformat": 4,
 "nbformat_minor": 2
}
